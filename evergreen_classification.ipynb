{
  "nbformat": 4,
  "nbformat_minor": 0,
  "metadata": {
    "colab": {
      "name": "evergreen classification.ipynb",
      "provenance": [],
      "collapsed_sections": [],
      "authorship_tag": "ABX9TyNBB/+u+bbjZ2Pn4r3ImONU",
      "include_colab_link": true
    },
    "kernelspec": {
      "name": "python3",
      "display_name": "Python 3"
    },
    "accelerator": "GPU"
  },
  "cells": [
    {
      "cell_type": "markdown",
      "metadata": {
        "id": "view-in-github",
        "colab_type": "text"
      },
      "source": [
        "<a href=\"https://colab.research.google.com/github/rohan1907/StumbleUpon-Evergreen-Classification-Challenge/blob/main/evergreen_classification.ipynb\" target=\"_parent\"><img src=\"https://colab.research.google.com/assets/colab-badge.svg\" alt=\"Open In Colab\"/></a>"
      ]
    },
    {
      "cell_type": "markdown",
      "metadata": {
        "id": "-4HyqswZO6_H"
      },
      "source": [
        "# **Stummble upon evergreen Classification Challenge**\n",
        "\n"
      ]
    },
    {
      "cell_type": "code",
      "metadata": {
        "id": "DNSaIWoPIKwj"
      },
      "source": [
        "import pandas as pd \n",
        "import numpy as np \n",
        "import tensorflow_hub as hub\n",
        "import matplotlib.pyplot as plt \n",
        "import seaborn as sns \n",
        "%matplotlib inline \n",
        "import tensorflow as tf "
      ],
      "execution_count": 1,
      "outputs": []
    },
    {
      "cell_type": "code",
      "metadata": {
        "id": "X1RgzYP9HkAm"
      },
      "source": [
        "# taking all columns of training set only for data exploration\n",
        "df_train=pd.read_csv('/content/data/train.tsv',sep='\\t')\n",
        "# taking boilerplate column as an input for the model beacuse only this column contain lot of high quality text data\n",
        "df_test=pd.read_csv('/content/data/test.tsv',sep='\\t', usecols=['urlid','boilerplate'])\n"
      ],
      "execution_count": 2,
      "outputs": []
    },
    {
      "cell_type": "code",
      "metadata": {
        "colab": {
          "base_uri": "https://localhost:8080/",
          "height": 496
        },
        "id": "b6rb5tkDVuOw",
        "outputId": "668ceef1-e84d-41be-f368-fc65e8cc36a6"
      },
      "source": [
        "df_train.head()"
      ],
      "execution_count": 3,
      "outputs": [
        {
          "output_type": "execute_result",
          "data": {
            "text/html": [
              "<div>\n",
              "<style scoped>\n",
              "    .dataframe tbody tr th:only-of-type {\n",
              "        vertical-align: middle;\n",
              "    }\n",
              "\n",
              "    .dataframe tbody tr th {\n",
              "        vertical-align: top;\n",
              "    }\n",
              "\n",
              "    .dataframe thead th {\n",
              "        text-align: right;\n",
              "    }\n",
              "</style>\n",
              "<table border=\"1\" class=\"dataframe\">\n",
              "  <thead>\n",
              "    <tr style=\"text-align: right;\">\n",
              "      <th></th>\n",
              "      <th>url</th>\n",
              "      <th>urlid</th>\n",
              "      <th>boilerplate</th>\n",
              "      <th>alchemy_category</th>\n",
              "      <th>alchemy_category_score</th>\n",
              "      <th>avglinksize</th>\n",
              "      <th>commonlinkratio_1</th>\n",
              "      <th>commonlinkratio_2</th>\n",
              "      <th>commonlinkratio_3</th>\n",
              "      <th>commonlinkratio_4</th>\n",
              "      <th>compression_ratio</th>\n",
              "      <th>embed_ratio</th>\n",
              "      <th>framebased</th>\n",
              "      <th>frameTagRatio</th>\n",
              "      <th>hasDomainLink</th>\n",
              "      <th>html_ratio</th>\n",
              "      <th>image_ratio</th>\n",
              "      <th>is_news</th>\n",
              "      <th>lengthyLinkDomain</th>\n",
              "      <th>linkwordscore</th>\n",
              "      <th>news_front_page</th>\n",
              "      <th>non_markup_alphanum_characters</th>\n",
              "      <th>numberOfLinks</th>\n",
              "      <th>numwords_in_url</th>\n",
              "      <th>parametrizedLinkRatio</th>\n",
              "      <th>spelling_errors_ratio</th>\n",
              "      <th>label</th>\n",
              "    </tr>\n",
              "  </thead>\n",
              "  <tbody>\n",
              "    <tr>\n",
              "      <th>0</th>\n",
              "      <td>http://www.bloomberg.com/news/2010-12-23/ibm-p...</td>\n",
              "      <td>4042</td>\n",
              "      <td>{\"title\":\"IBM Sees Holographic Calls Air Breat...</td>\n",
              "      <td>business</td>\n",
              "      <td>0.789131</td>\n",
              "      <td>2.055556</td>\n",
              "      <td>0.676471</td>\n",
              "      <td>0.205882</td>\n",
              "      <td>0.047059</td>\n",
              "      <td>0.023529</td>\n",
              "      <td>0.443783</td>\n",
              "      <td>0.0</td>\n",
              "      <td>0</td>\n",
              "      <td>0.090774</td>\n",
              "      <td>0</td>\n",
              "      <td>0.245831</td>\n",
              "      <td>0.003883</td>\n",
              "      <td>1</td>\n",
              "      <td>1</td>\n",
              "      <td>24</td>\n",
              "      <td>0</td>\n",
              "      <td>5424</td>\n",
              "      <td>170</td>\n",
              "      <td>8</td>\n",
              "      <td>0.152941</td>\n",
              "      <td>0.079130</td>\n",
              "      <td>0</td>\n",
              "    </tr>\n",
              "    <tr>\n",
              "      <th>1</th>\n",
              "      <td>http://www.popsci.com/technology/article/2012-...</td>\n",
              "      <td>8471</td>\n",
              "      <td>{\"title\":\"The Fully Electronic Futuristic Star...</td>\n",
              "      <td>recreation</td>\n",
              "      <td>0.574147</td>\n",
              "      <td>3.677966</td>\n",
              "      <td>0.508021</td>\n",
              "      <td>0.288770</td>\n",
              "      <td>0.213904</td>\n",
              "      <td>0.144385</td>\n",
              "      <td>0.468649</td>\n",
              "      <td>0.0</td>\n",
              "      <td>0</td>\n",
              "      <td>0.098707</td>\n",
              "      <td>0</td>\n",
              "      <td>0.203490</td>\n",
              "      <td>0.088652</td>\n",
              "      <td>1</td>\n",
              "      <td>1</td>\n",
              "      <td>40</td>\n",
              "      <td>0</td>\n",
              "      <td>4973</td>\n",
              "      <td>187</td>\n",
              "      <td>9</td>\n",
              "      <td>0.181818</td>\n",
              "      <td>0.125448</td>\n",
              "      <td>1</td>\n",
              "    </tr>\n",
              "    <tr>\n",
              "      <th>2</th>\n",
              "      <td>http://www.menshealth.com/health/flu-fighting-...</td>\n",
              "      <td>1164</td>\n",
              "      <td>{\"title\":\"Fruits that Fight the Flu fruits tha...</td>\n",
              "      <td>health</td>\n",
              "      <td>0.996526</td>\n",
              "      <td>2.382883</td>\n",
              "      <td>0.562016</td>\n",
              "      <td>0.321705</td>\n",
              "      <td>0.120155</td>\n",
              "      <td>0.042636</td>\n",
              "      <td>0.525448</td>\n",
              "      <td>0.0</td>\n",
              "      <td>0</td>\n",
              "      <td>0.072448</td>\n",
              "      <td>0</td>\n",
              "      <td>0.226402</td>\n",
              "      <td>0.120536</td>\n",
              "      <td>1</td>\n",
              "      <td>1</td>\n",
              "      <td>55</td>\n",
              "      <td>0</td>\n",
              "      <td>2240</td>\n",
              "      <td>258</td>\n",
              "      <td>11</td>\n",
              "      <td>0.166667</td>\n",
              "      <td>0.057613</td>\n",
              "      <td>1</td>\n",
              "    </tr>\n",
              "    <tr>\n",
              "      <th>3</th>\n",
              "      <td>http://www.dumblittleman.com/2007/12/10-foolpr...</td>\n",
              "      <td>6684</td>\n",
              "      <td>{\"title\":\"10 Foolproof Tips for Better Sleep \"...</td>\n",
              "      <td>health</td>\n",
              "      <td>0.801248</td>\n",
              "      <td>1.543103</td>\n",
              "      <td>0.400000</td>\n",
              "      <td>0.100000</td>\n",
              "      <td>0.016667</td>\n",
              "      <td>0.000000</td>\n",
              "      <td>0.480725</td>\n",
              "      <td>0.0</td>\n",
              "      <td>0</td>\n",
              "      <td>0.095861</td>\n",
              "      <td>0</td>\n",
              "      <td>0.265656</td>\n",
              "      <td>0.035343</td>\n",
              "      <td>1</td>\n",
              "      <td>0</td>\n",
              "      <td>24</td>\n",
              "      <td>0</td>\n",
              "      <td>2737</td>\n",
              "      <td>120</td>\n",
              "      <td>5</td>\n",
              "      <td>0.041667</td>\n",
              "      <td>0.100858</td>\n",
              "      <td>1</td>\n",
              "    </tr>\n",
              "    <tr>\n",
              "      <th>4</th>\n",
              "      <td>http://bleacherreport.com/articles/1205138-the...</td>\n",
              "      <td>9006</td>\n",
              "      <td>{\"title\":\"The 50 Coolest Jerseys You Didn t Kn...</td>\n",
              "      <td>sports</td>\n",
              "      <td>0.719157</td>\n",
              "      <td>2.676471</td>\n",
              "      <td>0.500000</td>\n",
              "      <td>0.222222</td>\n",
              "      <td>0.123457</td>\n",
              "      <td>0.043210</td>\n",
              "      <td>0.446143</td>\n",
              "      <td>0.0</td>\n",
              "      <td>0</td>\n",
              "      <td>0.024908</td>\n",
              "      <td>0</td>\n",
              "      <td>0.228887</td>\n",
              "      <td>0.050473</td>\n",
              "      <td>1</td>\n",
              "      <td>1</td>\n",
              "      <td>14</td>\n",
              "      <td>0</td>\n",
              "      <td>12032</td>\n",
              "      <td>162</td>\n",
              "      <td>10</td>\n",
              "      <td>0.098765</td>\n",
              "      <td>0.082569</td>\n",
              "      <td>0</td>\n",
              "    </tr>\n",
              "  </tbody>\n",
              "</table>\n",
              "</div>"
            ],
            "text/plain": [
              "                                                 url  ...  label\n",
              "0  http://www.bloomberg.com/news/2010-12-23/ibm-p...  ...      0\n",
              "1  http://www.popsci.com/technology/article/2012-...  ...      1\n",
              "2  http://www.menshealth.com/health/flu-fighting-...  ...      1\n",
              "3  http://www.dumblittleman.com/2007/12/10-foolpr...  ...      1\n",
              "4  http://bleacherreport.com/articles/1205138-the...  ...      0\n",
              "\n",
              "[5 rows x 27 columns]"
            ]
          },
          "metadata": {
            "tags": []
          },
          "execution_count": 3
        }
      ]
    },
    {
      "cell_type": "code",
      "metadata": {
        "id": "4UuEdyq0a8gx"
      },
      "source": [
        "#cleaning the train dataframe\n",
        "\n",
        "df_train['boilerplate'].replace(to_replace=r'\"title\":', value=\"\",inplace=True,regex=True)\n",
        "df_train['boilerplate'].replace(to_replace=r'\"url\":',value=\"\",inplace=True,regex=True)\n",
        "\n",
        "df_train['boilerplate'].replace(to_replace=r'{|}',value=\"\",inplace=True,regex=True)\n",
        "df_train['boilerplate']=df_train['boilerplate'].str.lower()\n",
        "\n",
        "#Cleaning the test dataframe \n",
        "\n",
        "df_test['boilerplate'].replace(to_replace=r'\"title\":', value=\"\",inplace=True,regex=True)\n",
        "df_test['boilerplate'].replace(to_replace=r'\"url\":',value=\"\",inplace=True,regex=True)\n",
        "\n",
        "df_test['boilerplate'].replace(to_replace=r'{|}',value=\"\",inplace=True,regex=True)\n",
        "df_test['boilerplate']=df_test['boilerplate'].str.lower()"
      ],
      "execution_count": 4,
      "outputs": []
    },
    {
      "cell_type": "code",
      "metadata": {
        "colab": {
          "base_uri": "https://localhost:8080/",
          "height": 694
        },
        "id": "D1d05_upMBjF",
        "outputId": "f8fda789-6ded-45f2-afe9-e554ed2b0fbe"
      },
      "source": [
        "plt.figure(figsize=(15,10))\n",
        "sns.countplot(x=df_train['alchemy_category'],hue=df_train['label']);\n",
        "plt.xlabel('Category');\n",
        "plt.xticks(rotation=90);"
      ],
      "execution_count": 5,
      "outputs": [
        {
          "output_type": "display_data",
          "data": {
            "image/png": "[encoded data removed]",
            "text/plain": [
              "<Figure size 1080x720 with 1 Axes>"
            ]
          },
          "metadata": {
            "tags": [],
            "needs_background": "light"
          }
        }
      ]
    },
    {
      "cell_type": "code",
      "metadata": {
        "id": "1AMuAjAOS3Yw"
      },
      "source": [
        "text_train = df_train.boilerplate #extracting the train text from the bolierplate column\n",
        "text_test = df_test.boilerplate #extracting the test text from the boilerplate column\n",
        "urlid_test = df_test.urlid #extracting urlid from test dataset\n",
        "y_train = df_train.label.values #extracting prediction labels "
      ],
      "execution_count": 6,
      "outputs": []
    },
    {
      "cell_type": "code",
      "metadata": {
        "colab": {
          "base_uri": "https://localhost:8080/"
        },
        "id": "NJFh5gMyVRK7",
        "outputId": "b25f4486-4e87-4c01-db56-21c1a64c5630"
      },
      "source": [
        "#splitting the train data into train and validation dataset\n",
        "x_val = text_train[:3000]\n",
        "partial_x_train = text_train[3000:]\n",
        "\n",
        "y_val = y_train[:3000]\n",
        "partial_y_train = y_train[3000:]\n",
        "text_train[:3]"
      ],
      "execution_count": 7,
      "outputs": [
        {
          "output_type": "execute_result",
          "data": {
            "text/plain": [
              "0    \"ibm sees holographic calls air breathing batt...\n",
              "1    \"the fully electronic futuristic starting gun ...\n",
              "2    \"fruits that fight the flu fruits that fight t...\n",
              "Name: boilerplate, dtype: object"
            ]
          },
          "metadata": {
            "tags": []
          },
          "execution_count": 7
        }
      ]
    },
    {
      "cell_type": "code",
      "metadata": {
        "id": "CUaDd7nxTgT2"
      },
      "source": [
        "#downloading the word embedding model from tensorflow hub. \n",
        "model = \"https://tfhub.dev/google/nnlm-en-dim50/2\"\n",
        "hub_layer = hub.KerasLayer(model, input_shape=[], dtype=tf.string, trainable=True)"
      ],
      "execution_count": 8,
      "outputs": []
    },
    {
      "cell_type": "code",
      "metadata": {
        "colab": {
          "base_uri": "https://localhost:8080/"
        },
        "id": "gakvNyKyqEY7",
        "outputId": "4fd8a927-dfa4-4173-824c-782854d8d3d2"
      },
      "source": [
        "#creating the model \n",
        "\n",
        "model = tf.keras.Sequential()\n",
        "model.add(hub_layer)\n",
        "model.add(tf.keras.layers.BatchNormalization())\n",
        "model.add(tf.keras.layers.Dense(128, activation='relu'))\n",
        "model.add(tf.keras.layers.Dropout(0.2))\n",
        "model.add(tf.keras.layers.Dense(64,activation='relu'))\n",
        "model.add(tf.keras.layers.Dense(1,activation='sigmoid'))\n",
        "\n",
        "model.summary()"
      ],
      "execution_count": 9,
      "outputs": [
        {
          "output_type": "stream",
          "text": [
            "Model: \"sequential\"\n",
            "_________________________________________________________________\n",
            "Layer (type)                 Output Shape              Param #   \n",
            "=================================================================\n",
            "keras_layer (KerasLayer)     (None, 50)                48190600  \n",
            "_________________________________________________________________\n",
            "batch_normalization (BatchNo (None, 50)                200       \n",
            "_________________________________________________________________\n",
            "dense (Dense)                (None, 128)               6528      \n",
            "_________________________________________________________________\n",
            "dropout (Dropout)            (None, 128)               0         \n",
            "_________________________________________________________________\n",
            "dense_1 (Dense)              (None, 64)                8256      \n",
            "_________________________________________________________________\n",
            "dense_2 (Dense)              (None, 1)                 65        \n",
            "=================================================================\n",
            "Total params: 48,205,649\n",
            "Trainable params: 48,205,549\n",
            "Non-trainable params: 100\n",
            "_________________________________________________________________\n"
          ],
          "name": "stdout"
        }
      ]
    },
    {
      "cell_type": "code",
      "metadata": {
        "id": "UY4ss42HgsEN"
      },
      "source": [
        "#model compilation with adam optimizer \n",
        "model.compile(loss=tf.keras.losses.BinaryCrossentropy(),\n",
        "              optimizer='adam',metrics=[tf.keras.metrics.AUC()])"
      ],
      "execution_count": 10,
      "outputs": []
    },
    {
      "cell_type": "code",
      "metadata": {
        "colab": {
          "base_uri": "https://localhost:8080/"
        },
        "id": "60IMEb6UUydu",
        "outputId": "b67b3cd9-a3d4-46b9-dbaa-b3efa4a11f10"
      },
      "source": [
        "#training the model, epochs = 40\n",
        "history = model.fit(partial_x_train,\n",
        "                    partial_y_train,\n",
        "                    epochs=40,\n",
        "                    batch_size=512,\n",
        "                    validation_data=(x_val, y_val),\n",
        "                    verbose=1)"
      ],
      "execution_count": 11,
      "outputs": [
        {
          "output_type": "stream",
          "text": [
            "Epoch 1/40\n",
            "9/9 [==============================] - 2s 148ms/step - loss: 0.6408 - auc: 0.6776 - val_loss: 0.6035 - val_auc: 0.8206\n",
            "Epoch 2/40\n",
            "9/9 [==============================] - 1s 91ms/step - loss: 0.5070 - auc: 0.8339 - val_loss: 0.5449 - val_auc: 0.8480\n",
            "Epoch 3/40\n",
            "9/9 [==============================] - 1s 102ms/step - loss: 0.4637 - auc: 0.8695 - val_loss: 0.5257 - val_auc: 0.8555\n",
            "Epoch 4/40\n",
            "9/9 [==============================] - 1s 93ms/step - loss: 0.4241 - auc: 0.8952 - val_loss: 0.5116 - val_auc: 0.8609\n",
            "Epoch 5/40\n",
            "9/9 [==============================] - 1s 92ms/step - loss: 0.3893 - auc: 0.9092 - val_loss: 0.5073 - val_auc: 0.8638\n",
            "Epoch 6/40\n",
            "9/9 [==============================] - 1s 93ms/step - loss: 0.3610 - auc: 0.9231 - val_loss: 0.4926 - val_auc: 0.8659\n",
            "Epoch 7/40\n",
            "9/9 [==============================] - 1s 92ms/step - loss: 0.3124 - auc: 0.9434 - val_loss: 0.4811 - val_auc: 0.8654\n",
            "Epoch 8/40\n",
            "9/9 [==============================] - 1s 92ms/step - loss: 0.2809 - auc: 0.9537 - val_loss: 0.4739 - val_auc: 0.8652\n",
            "Epoch 9/40\n",
            "9/9 [==============================] - 1s 93ms/step - loss: 0.2267 - auc: 0.9712 - val_loss: 0.4681 - val_auc: 0.8628\n",
            "Epoch 10/40\n",
            "9/9 [==============================] - 1s 92ms/step - loss: 0.1910 - auc: 0.9798 - val_loss: 0.4760 - val_auc: 0.8583\n",
            "Epoch 11/40\n",
            "9/9 [==============================] - 1s 92ms/step - loss: 0.1594 - auc: 0.9856 - val_loss: 0.4889 - val_auc: 0.8562\n",
            "Epoch 12/40\n",
            "9/9 [==============================] - 1s 94ms/step - loss: 0.1103 - auc: 0.9935 - val_loss: 0.5205 - val_auc: 0.8521\n",
            "Epoch 13/40\n",
            "9/9 [==============================] - 1s 93ms/step - loss: 0.0794 - auc: 0.9973 - val_loss: 0.5491 - val_auc: 0.8485\n",
            "Epoch 14/40\n",
            "9/9 [==============================] - 1s 95ms/step - loss: 0.0599 - auc: 0.9986 - val_loss: 0.6025 - val_auc: 0.8453\n",
            "Epoch 15/40\n",
            "9/9 [==============================] - 1s 94ms/step - loss: 0.0429 - auc: 0.9993 - val_loss: 0.6552 - val_auc: 0.8459\n",
            "Epoch 16/40\n",
            "9/9 [==============================] - 1s 92ms/step - loss: 0.0296 - auc: 0.9998 - val_loss: 0.7019 - val_auc: 0.8379\n",
            "Epoch 17/40\n",
            "9/9 [==============================] - 1s 94ms/step - loss: 0.0222 - auc: 0.9999 - val_loss: 0.7642 - val_auc: 0.8416\n",
            "Epoch 18/40\n",
            "9/9 [==============================] - 1s 94ms/step - loss: 0.0185 - auc: 0.9999 - val_loss: 0.8117 - val_auc: 0.8386\n",
            "Epoch 19/40\n",
            "9/9 [==============================] - 1s 93ms/step - loss: 0.0135 - auc: 1.0000 - val_loss: 0.8623 - val_auc: 0.8342\n",
            "Epoch 20/40\n",
            "9/9 [==============================] - 1s 93ms/step - loss: 0.0138 - auc: 0.9999 - val_loss: 0.9048 - val_auc: 0.8360\n",
            "Epoch 21/40\n",
            "9/9 [==============================] - 1s 94ms/step - loss: 0.0104 - auc: 1.0000 - val_loss: 0.9608 - val_auc: 0.8342\n",
            "Epoch 22/40\n",
            "9/9 [==============================] - 1s 95ms/step - loss: 0.0086 - auc: 1.0000 - val_loss: 1.0082 - val_auc: 0.8347\n",
            "Epoch 23/40\n",
            "9/9 [==============================] - 1s 94ms/step - loss: 0.0064 - auc: 1.0000 - val_loss: 1.0466 - val_auc: 0.8348\n",
            "Epoch 24/40\n",
            "9/9 [==============================] - 1s 95ms/step - loss: 0.0074 - auc: 1.0000 - val_loss: 1.0844 - val_auc: 0.8340\n",
            "Epoch 25/40\n",
            "9/9 [==============================] - 1s 92ms/step - loss: 0.0074 - auc: 1.0000 - val_loss: 1.0997 - val_auc: 0.8306\n",
            "Epoch 26/40\n",
            "9/9 [==============================] - 1s 93ms/step - loss: 0.0057 - auc: 1.0000 - val_loss: 1.1234 - val_auc: 0.8278\n",
            "Epoch 27/40\n",
            "9/9 [==============================] - 1s 93ms/step - loss: 0.0047 - auc: 1.0000 - val_loss: 1.1566 - val_auc: 0.8274\n",
            "Epoch 28/40\n",
            "9/9 [==============================] - 1s 94ms/step - loss: 0.0053 - auc: 1.0000 - val_loss: 1.2036 - val_auc: 0.8261\n",
            "Epoch 29/40\n",
            "9/9 [==============================] - 1s 94ms/step - loss: 0.0039 - auc: 1.0000 - val_loss: 1.2375 - val_auc: 0.8254\n",
            "Epoch 30/40\n",
            "9/9 [==============================] - 1s 92ms/step - loss: 0.0052 - auc: 1.0000 - val_loss: 1.2688 - val_auc: 0.8238\n",
            "Epoch 31/40\n",
            "9/9 [==============================] - 1s 92ms/step - loss: 0.0032 - auc: 1.0000 - val_loss: 1.2972 - val_auc: 0.8228\n",
            "Epoch 32/40\n",
            "9/9 [==============================] - 1s 93ms/step - loss: 0.0033 - auc: 1.0000 - val_loss: 1.3279 - val_auc: 0.8221\n",
            "Epoch 33/40\n",
            "9/9 [==============================] - 1s 91ms/step - loss: 0.0032 - auc: 1.0000 - val_loss: 1.3551 - val_auc: 0.8199\n",
            "Epoch 34/40\n",
            "9/9 [==============================] - 1s 93ms/step - loss: 0.0027 - auc: 1.0000 - val_loss: 1.3802 - val_auc: 0.8183\n",
            "Epoch 35/40\n",
            "9/9 [==============================] - 1s 91ms/step - loss: 0.0022 - auc: 1.0000 - val_loss: 1.3917 - val_auc: 0.8178\n",
            "Epoch 36/40\n",
            "9/9 [==============================] - 1s 91ms/step - loss: 0.0045 - auc: 0.9999 - val_loss: 1.4336 - val_auc: 0.8179\n",
            "Epoch 37/40\n",
            "9/9 [==============================] - 1s 92ms/step - loss: 0.0024 - auc: 1.0000 - val_loss: 1.4670 - val_auc: 0.8176\n",
            "Epoch 38/40\n",
            "9/9 [==============================] - 1s 90ms/step - loss: 0.0031 - auc: 1.0000 - val_loss: 1.4798 - val_auc: 0.8170\n",
            "Epoch 39/40\n",
            "9/9 [==============================] - 1s 92ms/step - loss: 0.0030 - auc: 1.0000 - val_loss: 1.4911 - val_auc: 0.8153\n",
            "Epoch 40/40\n",
            "9/9 [==============================] - 1s 93ms/step - loss: 0.0023 - auc: 1.0000 - val_loss: 1.5150 - val_auc: 0.8136\n"
          ],
          "name": "stdout"
        }
      ]
    },
    {
      "cell_type": "code",
      "metadata": {
        "id": "p-Pz3GT8dLDb"
      },
      "source": [
        "predictions=model.predict(text_test) #model prediction"
      ],
      "execution_count": 12,
      "outputs": []
    },
    {
      "cell_type": "code",
      "metadata": {
        "id": "O-8EtctbneEo"
      },
      "source": [
        "val=[1 if i>=0.5 else 0 for i in predictions]"
      ],
      "execution_count": 13,
      "outputs": []
    },
    {
      "cell_type": "code",
      "metadata": {
        "id": "N-rMT1E5dYVL"
      },
      "source": [
        "df_test['label']=val\n",
        "\n",
        "df_test.to_csv('submissions.csv',columns=['urlid','label'],index=False) #saving submission file"
      ],
      "execution_count": 14,
      "outputs": []
    },
    {
      "cell_type": "code",
      "metadata": {
        "colab": {
          "base_uri": "https://localhost:8080/"
        },
        "id": "3XqH5yruVHvA",
        "outputId": "e57059f6-384a-475f-befa-2db2a39ca71b"
      },
      "source": [
        "history_dict = history.history\n",
        "key=history_dict.keys()\n",
        "key"
      ],
      "execution_count": 15,
      "outputs": [
        {
          "output_type": "execute_result",
          "data": {
            "text/plain": [
              "dict_keys(['loss', 'auc', 'val_loss', 'val_auc'])"
            ]
          },
          "metadata": {
            "tags": []
          },
          "execution_count": 15
        }
      ]
    },
    {
      "cell_type": "code",
      "metadata": {
        "colab": {
          "base_uri": "https://localhost:8080/",
          "height": 295
        },
        "id": "fQsAtLQlcOiT",
        "outputId": "a2a57549-de12-466e-b4fd-0655de505134"
      },
      "source": [
        "acc = history_dict['auc']\n",
        "val_acc = history_dict['val_auc']\n",
        "loss = history_dict['loss']\n",
        "val_loss = history_dict['val_loss']\n",
        "\n",
        "epochs = range(1, len(acc) + 1)\n",
        "\n",
        "# \"bo\" is for \"blue dot\"\n",
        "plt.plot(epochs, loss, 'bo', label='Training loss')\n",
        "# b is for \"solid blue line\"\n",
        "plt.plot(epochs, val_loss, 'b', label='Validation loss')\n",
        "plt.title('Training and validation loss')\n",
        "plt.xlabel('Epochs')\n",
        "plt.ylabel('Loss')\n",
        "plt.legend()\n",
        "\n",
        "plt.show()"
      ],
      "execution_count": 17,
      "outputs": [
        {
          "output_type": "display_data",
          "data": {
            "image/png": "[encoded data removed]",
            "text/plain": [
              "<Figure size 432x288 with 1 Axes>"
            ]
          },
          "metadata": {
            "tags": [],
            "needs_background": "light"
          }
        }
      ]
    },
    {
      "cell_type": "code",
      "metadata": {
        "colab": {
          "base_uri": "https://localhost:8080/",
          "height": 295
        },
        "id": "PPLiKJKmr6RV",
        "outputId": "73bc72f4-ada2-44d2-8f0c-ef3524536c44"
      },
      "source": [
        "plt.clf()   # clear figure\n",
        "\n",
        "plt.plot(epochs, acc, 'bo', label='Training acc')\n",
        "plt.plot(epochs, val_acc, 'b', label='Validation acc')\n",
        "plt.title('Training and validation accuracy')\n",
        "plt.xlabel('Epochs')\n",
        "plt.ylabel('Accuracy')\n",
        "plt.legend()\n",
        "\n",
        "plt.show()"
      ],
      "execution_count": 18,
      "outputs": [
        {
          "output_type": "display_data",
          "data": {
            "image/png": "[encoded data removed]",
            "text/plain": [
              "<Figure size 432x288 with 1 Axes>"
            ]
          },
          "metadata": {
            "tags": [],
            "needs_background": "light"
          }
        }
      ]
    }
  ]
}