{
  "nbformat": 4,
  "nbformat_minor": 0,
  "metadata": {
    "colab": {
      "name": "Untitled2.ipynb",
      "provenance": [],
      "authorship_tag": "ABX9TyOM4uy3/RpGi+YtBEJvVvtO",
      "include_colab_link": true
    },
    "kernelspec": {
      "name": "python3",
      "display_name": "Python 3"
    },
    "accelerator": "GPU"
  },
  "cells": [
    {
      "cell_type": "markdown",
      "metadata": {
        "id": "view-in-github",
        "colab_type": "text"
      },
      "source": [
        "<a href=\"https://colab.research.google.com/github/rohan1907/StumbleUpon-Evergreen-Classification-Challenge/blob/main/Evergreen%20Classification%20challenge.ipynb\" target=\"_parent\"><img src=\"https://colab.research.google.com/assets/colab-badge.svg\" alt=\"Open In Colab\"/></a>"
      ]
    },
    {
      "cell_type": "code",
      "metadata": {
        "id": "DNSaIWoPIKwj"
      },
      "source": [
        "import pandas as pd \n",
        "import numpy as np \n",
        "import tensorflow_hub as hub\n",
        "import matplotlib.pyplot as plt \n",
        "import seaborn as sns \n",
        "%matplotlib inline \n",
        "\n",
        "import tensorflow as tf "
      ],
      "execution_count": 1,
      "outputs": []
    },
    {
      "cell_type": "code",
      "metadata": {
        "id": "X1RgzYP9HkAm"
      },
      "source": [
        "# taking all columns of training set only for data exploration\n",
        "df_train=pd.read_csv('/content/data/train.tsv',sep='\\t')\n",
        "# taking boilerplate column as an input for the model beacuse only this column contain lot of high quality text data useful for our nlp task\n",
        "df_test=pd.read_csv('/content/data/test.tsv',sep='\\t', usecols=['urlid','boilerplate'])\n"
      ],
      "execution_count": 2,
      "outputs": []
    },
    {
      "cell_type": "code",
      "metadata": {
        "id": "4UuEdyq0a8gx"
      },
      "source": [
        "df_train['boilerplate'].replace(to_replace=r'\"title\":', value=\"\",inplace=True,regex=True)\n",
        "df_train['boilerplate'].replace(to_replace=r'\"url\":',value=\"\",inplace=True,regex=True)\n",
        "\n",
        "df_train['boilerplate'].replace(to_replace=r'{|}',value=\"\",inplace=True,regex=True)\n",
        "df_train['boilerplate']=df_train['boilerplate'].str.lower()\n",
        "\n",
        "#Cleaning the test dataframe \n",
        "\n",
        "df_test['boilerplate'].replace(to_replace=r'\"title\":', value=\"\",inplace=True,regex=True)\n",
        "df_test['boilerplate'].replace(to_replace=r'\"url\":',value=\"\",inplace=True,regex=True)\n",
        "\n",
        "df_test['boilerplate'].replace(to_replace=r'{|}',value=\"\",inplace=True,regex=True)\n",
        "df_test['boilerplate']=df_test['boilerplate'].str.lower()"
      ],
      "execution_count": 3,
      "outputs": []
    },
    {
      "cell_type": "code",
      "metadata": {
        "colab": {
          "base_uri": "https://localhost:8080/",
          "height": 694
        },
        "id": "D1d05_upMBjF",
        "outputId": "c77d0dd3-b356-44a0-e588-3eab74889730"
      },
      "source": [
        "plt.figure(figsize=(15,10))\n",
        "sns.countplot(x=df_train['alchemy_category'],hue=df_train['label']);\n",
        "plt.xlabel('Category');\n",
        "plt.xticks(rotation=90);"
      ],
      "execution_count": 5,
      "outputs": [
        {
          "output_type": "display_data",
          "data": {
            "image/png": "[encoded data removed]",
            "text/plain": [
              "<Figure size 1080x720 with 1 Axes>"
            ]
          },
          "metadata": {
            "tags": [],
            "needs_background": "light"
          }
        }
      ]
    },
    {
      "cell_type": "code",
      "metadata": {
        "id": "1AMuAjAOS3Yw"
      },
      "source": [
        "text_train = df_train.boilerplate \n",
        "text_test = df_test.boilerplate\n",
        "urlid_test = df_test.urlid\n",
        "y_train = df_train.label.values"
      ],
      "execution_count": 4,
      "outputs": []
    },
    {
      "cell_type": "code",
      "metadata": {
        "id": "CUaDd7nxTgT2"
      },
      "source": [
        "model = \"https://tfhub.dev/google/nnlm-en-dim50/2\"\n",
        "hub_layer = hub.KerasLayer(model, input_shape=[], dtype=tf.string, trainable=True)"
      ],
      "execution_count": 5,
      "outputs": []
    },
    {
      "cell_type": "code",
      "metadata": {
        "colab": {
          "base_uri": "https://localhost:8080/"
        },
        "id": "gakvNyKyqEY7",
        "outputId": "dad01a41-e844-4cc9-eb72-2c59bc5c37dd"
      },
      "source": [
        "model = tf.keras.Sequential()\n",
        "model.add(hub_layer)\n",
        "model.add(tf.keras.layers.BatchNormalization())\n",
        "model.add(tf.keras.layers.Dense(128, activation='relu'))\n",
        "model.add(tf.keras.layers.Dropout(0.2))\n",
        "model.add(tf.keras.layers.Dense(64,activation='relu'))\n",
        "model.add(tf.keras.layers.Dense(1,activation='sigmoid'))\n",
        "\n",
        "model.summary()"
      ],
      "execution_count": 6,
      "outputs": [
        {
          "output_type": "stream",
          "text": [
            "Model: \"sequential\"\n",
            "_________________________________________________________________\n",
            "Layer (type)                 Output Shape              Param #   \n",
            "=================================================================\n",
            "keras_layer (KerasLayer)     (None, 50)                48190600  \n",
            "_________________________________________________________________\n",
            "batch_normalization (BatchNo (None, 50)                200       \n",
            "_________________________________________________________________\n",
            "dense (Dense)                (None, 128)               6528      \n",
            "_________________________________________________________________\n",
            "dropout (Dropout)            (None, 128)               0         \n",
            "_________________________________________________________________\n",
            "dense_1 (Dense)              (None, 64)                8256      \n",
            "_________________________________________________________________\n",
            "dense_2 (Dense)              (None, 1)                 65        \n",
            "=================================================================\n",
            "Total params: 48,205,649\n",
            "Trainable params: 48,205,549\n",
            "Non-trainable params: 100\n",
            "_________________________________________________________________\n"
          ],
          "name": "stdout"
        }
      ]
    },
    {
      "cell_type": "code",
      "metadata": {
        "id": "UY4ss42HgsEN"
      },
      "source": [
        "model.compile(loss=tf.keras.losses.BinaryCrossentropy(),\n",
        "              optimizer='adam',metrics=[tf.keras.metrics.AUC()])"
      ],
      "execution_count": 7,
      "outputs": []
    },
    {
      "cell_type": "code",
      "metadata": {
        "colab": {
          "base_uri": "https://localhost:8080/"
        },
        "id": "NJFh5gMyVRK7",
        "outputId": "0a75ad85-805c-4894-e5ed-094469bb358d"
      },
      "source": [
        "x_val = text_train[:3000]\n",
        "partial_x_train = text_train[3000:]\n",
        "\n",
        "y_val = y_train[:3000]\n",
        "partial_y_train = y_train[3000:]\n",
        "text_train[:3]"
      ],
      "execution_count": 8,
      "outputs": [
        {
          "output_type": "execute_result",
          "data": {
            "text/plain": [
              "0    \"ibm sees holographic calls air breathing batt...\n",
              "1    \"the fully electronic futuristic starting gun ...\n",
              "2    \"fruits that fight the flu fruits that fight t...\n",
              "Name: boilerplate, dtype: object"
            ]
          },
          "metadata": {
            "tags": []
          },
          "execution_count": 8
        }
      ]
    },
    {
      "cell_type": "code",
      "metadata": {
        "colab": {
          "base_uri": "https://localhost:8080/"
        },
        "id": "60IMEb6UUydu",
        "outputId": "be0a0ccb-99a9-4e6a-a393-627bbd654416"
      },
      "source": [
        "history = model.fit(partial_x_train,\n",
        "                    partial_y_train,\n",
        "                    epochs=40,\n",
        "                    batch_size=512,\n",
        "                    validation_data=(x_val, y_val),\n",
        "                    verbose=1)"
      ],
      "execution_count": 9,
      "outputs": [
        {
          "output_type": "stream",
          "text": [
            "Epoch 1/40\n",
            "9/9 [==============================] - 2s 162ms/step - loss: 0.6378 - auc: 0.6985 - val_loss: 0.5724 - val_auc: 0.8290\n",
            "Epoch 2/40\n",
            "9/9 [==============================] - 1s 108ms/step - loss: 0.5148 - auc: 0.8388 - val_loss: 0.5492 - val_auc: 0.8451\n",
            "Epoch 3/40\n",
            "9/9 [==============================] - 1s 108ms/step - loss: 0.4766 - auc: 0.8684 - val_loss: 0.5165 - val_auc: 0.8563\n",
            "Epoch 4/40\n",
            "9/9 [==============================] - 1s 109ms/step - loss: 0.4399 - auc: 0.8859 - val_loss: 0.5110 - val_auc: 0.8612\n",
            "Epoch 5/40\n",
            "9/9 [==============================] - 1s 111ms/step - loss: 0.3956 - auc: 0.9076 - val_loss: 0.5033 - val_auc: 0.8652\n",
            "Epoch 6/40\n",
            "9/9 [==============================] - 1s 107ms/step - loss: 0.3722 - auc: 0.9171 - val_loss: 0.4938 - val_auc: 0.8674\n",
            "Epoch 7/40\n",
            "9/9 [==============================] - 1s 108ms/step - loss: 0.3304 - auc: 0.9363 - val_loss: 0.4830 - val_auc: 0.8679\n",
            "Epoch 8/40\n",
            "9/9 [==============================] - 1s 110ms/step - loss: 0.2886 - auc: 0.9515 - val_loss: 0.4752 - val_auc: 0.8667\n",
            "Epoch 9/40\n",
            "9/9 [==============================] - 1s 109ms/step - loss: 0.2442 - auc: 0.9649 - val_loss: 0.4742 - val_auc: 0.8630\n",
            "Epoch 10/40\n",
            "9/9 [==============================] - 1s 109ms/step - loss: 0.1981 - auc: 0.9785 - val_loss: 0.4758 - val_auc: 0.8605\n",
            "Epoch 11/40\n",
            "9/9 [==============================] - 1s 105ms/step - loss: 0.1558 - auc: 0.9864 - val_loss: 0.4898 - val_auc: 0.8551\n",
            "Epoch 12/40\n",
            "9/9 [==============================] - 1s 109ms/step - loss: 0.1129 - auc: 0.9937 - val_loss: 0.5173 - val_auc: 0.8517\n",
            "Epoch 13/40\n",
            "9/9 [==============================] - 1s 106ms/step - loss: 0.0808 - auc: 0.9969 - val_loss: 0.5546 - val_auc: 0.8494\n",
            "Epoch 14/40\n",
            "9/9 [==============================] - 1s 107ms/step - loss: 0.0544 - auc: 0.9990 - val_loss: 0.6022 - val_auc: 0.8448\n",
            "Epoch 15/40\n",
            "9/9 [==============================] - 1s 110ms/step - loss: 0.0383 - auc: 0.9992 - val_loss: 0.6656 - val_auc: 0.8451\n",
            "Epoch 16/40\n",
            "9/9 [==============================] - 1s 106ms/step - loss: 0.0281 - auc: 0.9998 - val_loss: 0.7095 - val_auc: 0.8438\n",
            "Epoch 17/40\n",
            "9/9 [==============================] - 1s 107ms/step - loss: 0.0219 - auc: 0.9997 - val_loss: 0.7567 - val_auc: 0.8416\n",
            "Epoch 18/40\n",
            "9/9 [==============================] - 1s 106ms/step - loss: 0.0143 - auc: 0.9999 - val_loss: 0.8195 - val_auc: 0.8408\n",
            "Epoch 19/40\n",
            "9/9 [==============================] - 1s 109ms/step - loss: 0.0161 - auc: 0.9999 - val_loss: 0.8493 - val_auc: 0.8378\n",
            "Epoch 20/40\n",
            "9/9 [==============================] - 1s 107ms/step - loss: 0.0124 - auc: 1.0000 - val_loss: 0.9081 - val_auc: 0.8383\n",
            "Epoch 21/40\n",
            "9/9 [==============================] - 1s 109ms/step - loss: 0.0103 - auc: 0.9999 - val_loss: 0.9360 - val_auc: 0.8353\n",
            "Epoch 22/40\n",
            "9/9 [==============================] - 1s 107ms/step - loss: 0.0073 - auc: 1.0000 - val_loss: 0.9764 - val_auc: 0.8348\n",
            "Epoch 23/40\n",
            "9/9 [==============================] - 1s 108ms/step - loss: 0.0077 - auc: 0.9999 - val_loss: 1.0109 - val_auc: 0.8319\n",
            "Epoch 24/40\n",
            "9/9 [==============================] - 1s 106ms/step - loss: 0.0070 - auc: 1.0000 - val_loss: 1.0459 - val_auc: 0.8311\n",
            "Epoch 25/40\n",
            "9/9 [==============================] - 1s 106ms/step - loss: 0.0050 - auc: 1.0000 - val_loss: 1.0793 - val_auc: 0.8319\n",
            "Epoch 26/40\n",
            "9/9 [==============================] - 1s 108ms/step - loss: 0.0067 - auc: 0.9999 - val_loss: 1.1127 - val_auc: 0.8307\n",
            "Epoch 27/40\n",
            "9/9 [==============================] - 1s 107ms/step - loss: 0.0051 - auc: 1.0000 - val_loss: 1.1731 - val_auc: 0.8285\n",
            "Epoch 28/40\n",
            "9/9 [==============================] - 1s 109ms/step - loss: 0.0045 - auc: 1.0000 - val_loss: 1.1810 - val_auc: 0.8251\n",
            "Epoch 29/40\n",
            "9/9 [==============================] - 1s 109ms/step - loss: 0.0027 - auc: 1.0000 - val_loss: 1.2146 - val_auc: 0.8236\n",
            "Epoch 30/40\n",
            "9/9 [==============================] - 1s 108ms/step - loss: 0.0034 - auc: 1.0000 - val_loss: 1.2261 - val_auc: 0.8210\n",
            "Epoch 31/40\n",
            "9/9 [==============================] - 1s 107ms/step - loss: 0.0052 - auc: 1.0000 - val_loss: 1.2660 - val_auc: 0.8225\n",
            "Epoch 32/40\n",
            "9/9 [==============================] - 1s 109ms/step - loss: 0.0039 - auc: 1.0000 - val_loss: 1.2966 - val_auc: 0.8214\n",
            "Epoch 33/40\n",
            "9/9 [==============================] - 1s 111ms/step - loss: 0.0039 - auc: 1.0000 - val_loss: 1.3165 - val_auc: 0.8181\n",
            "Epoch 34/40\n",
            "9/9 [==============================] - 1s 109ms/step - loss: 0.0040 - auc: 1.0000 - val_loss: 1.3456 - val_auc: 0.8183\n",
            "Epoch 35/40\n",
            "9/9 [==============================] - 1s 107ms/step - loss: 0.0023 - auc: 1.0000 - val_loss: 1.4046 - val_auc: 0.8203\n",
            "Epoch 36/40\n",
            "9/9 [==============================] - 1s 121ms/step - loss: 0.0032 - auc: 1.0000 - val_loss: 1.4174 - val_auc: 0.8202\n",
            "Epoch 37/40\n",
            "9/9 [==============================] - 1s 108ms/step - loss: 0.0031 - auc: 1.0000 - val_loss: 1.4318 - val_auc: 0.8195\n",
            "Epoch 38/40\n",
            "9/9 [==============================] - 1s 109ms/step - loss: 0.0019 - auc: 1.0000 - val_loss: 1.4478 - val_auc: 0.8174\n",
            "Epoch 39/40\n",
            "9/9 [==============================] - 1s 110ms/step - loss: 0.0015 - auc: 1.0000 - val_loss: 1.4632 - val_auc: 0.8160\n",
            "Epoch 40/40\n",
            "9/9 [==============================] - 1s 108ms/step - loss: 0.0022 - auc: 1.0000 - val_loss: 1.4836 - val_auc: 0.8144\n"
          ],
          "name": "stdout"
        }
      ]
    },
    {
      "cell_type": "code",
      "metadata": {
        "id": "p-Pz3GT8dLDb"
      },
      "source": [
        "predictions=model.predict(text_test)"
      ],
      "execution_count": 10,
      "outputs": []
    },
    {
      "cell_type": "code",
      "metadata": {
        "id": "O-8EtctbneEo"
      },
      "source": [
        "val=[1 if i>=0.5 else 0 for i in predictions]"
      ],
      "execution_count": 11,
      "outputs": []
    },
    {
      "cell_type": "code",
      "metadata": {
        "id": "N-rMT1E5dYVL"
      },
      "source": [
        "df_test['label']=val\n",
        "\n",
        "df_test.to_csv('submissions.csv',columns=['urlid','label'],index=False)"
      ],
      "execution_count": 12,
      "outputs": []
    },
    {
      "cell_type": "code",
      "metadata": {
        "colab": {
          "base_uri": "https://localhost:8080/"
        },
        "id": "3XqH5yruVHvA",
        "outputId": "0d9abc71-c1e3-4c80-d014-ec3fee816232"
      },
      "source": [
        "history_dict = history.history\n",
        "history_dict.keys()"
      ],
      "execution_count": 13,
      "outputs": [
        {
          "output_type": "execute_result",
          "data": {
            "text/plain": [
              "dict_keys(['loss', 'auc', 'val_loss', 'val_auc'])"
            ]
          },
          "metadata": {
            "tags": []
          },
          "execution_count": 13
        }
      ]
    },
    {
      "cell_type": "code",
      "metadata": {
        "colab": {
          "base_uri": "https://localhost:8080/",
          "height": 295
        },
        "id": "fQsAtLQlcOiT",
        "outputId": "90555d0b-1382-45f8-a757-b73da27f4847"
      },
      "source": [
        "acc = history_dict['auc']\n",
        "val_acc = history_dict['val_auc']\n",
        "loss = history_dict['loss']\n",
        "val_loss = history_dict['val_loss']\n",
        "\n",
        "epochs = range(1, len(acc) + 1)\n",
        "\n",
        "# \"bo\" is for \"blue dot\"\n",
        "plt.plot(epochs, loss, 'bo', label='Training loss')\n",
        "# b is for \"solid blue line\"\n",
        "plt.plot(epochs, val_loss, 'b', label='Validation loss')\n",
        "plt.title('Training and validation loss')\n",
        "plt.xlabel('Epochs')\n",
        "plt.ylabel('Loss')\n",
        "plt.legend()\n",
        "\n",
        "plt.show()"
      ],
      "execution_count": 14,
      "outputs": [
        {
          "output_type": "display_data",
          "data": {
            "image/png": "[encoded data removed]",
            "text/plain": [
              "<Figure size 432x288 with 1 Axes>"
            ]
          },
          "metadata": {
            "tags": [],
            "needs_background": "light"
          }
        }
      ]
    },
    {
      "cell_type": "code",
      "metadata": {
        "colab": {
          "base_uri": "https://localhost:8080/",
          "height": 295
        },
        "id": "PPLiKJKmr6RV",
        "outputId": "8da17566-19b2-4eb4-ad3a-1bb439cb9a26"
      },
      "source": [
        "plt.clf()   # clear figure\n",
        "\n",
        "plt.plot(epochs, acc, 'bo', label='Training acc')\n",
        "plt.plot(epochs, val_acc, 'b', label='Validation acc')\n",
        "plt.title('Training and validation accuracy')\n",
        "plt.xlabel('Epochs')\n",
        "plt.ylabel('Accuracy')\n",
        "plt.legend()\n",
        "\n",
        "plt.show()"
      ],
      "execution_count": 15,
      "outputs": [
        {
          "output_type": "display_data",
          "data": {
            "image/png": "[encoded data removed]",
            "text/plain": [
              "<Figure size 432x288 with 1 Axes>"
            ]
          },
          "metadata": {
            "tags": [],
            "needs_background": "light"
          }
        }
      ]
    }
  ]
}